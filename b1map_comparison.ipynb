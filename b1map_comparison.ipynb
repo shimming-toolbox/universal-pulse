{
 "cells": [
  {
   "cell_type": "code",
   "execution_count": null,
   "metadata": {},
   "outputs": [],
   "source": [
    "import numpy as np\n",
    "import nibabel as nib\n",
    "import matplotlib.pyplot as plt\n",
    "import scipy as sp\n",
    "plt.rcParams['axes.facecolor'] = 'white'\n",
    "plt.rcParams['savefig.facecolor']='white'\n"
   ]
  },
  {
   "cell_type": "code",
   "execution_count": null,
   "metadata": {},
   "outputs": [],
   "source": [
    "mask = nib.load('acdc_spine_7t_037_48_T0000_th15.nii.gz')\n",
    "nii_data = nib.load('acdc_spine_7t_037_56_T0000.nii.gz')\n",
    "nii_gauss = nib.load('bla_filt_gauss.nii.gz')\n",
    "nii_median = nib.load('bla_filt_median.nii.gz')\n",
    "\n",
    "b1_data = nii_data.get_fdata().astype(np.float32)\n",
    "b1_gauss = nii_gauss.get_fdata().astype(np.float32)\n",
    "b1_median = nii_median.get_fdata().astype(np.float32)"
   ]
  },
  {
   "cell_type": "code",
   "execution_count": null,
   "metadata": {},
   "outputs": [],
   "source": [
    "# convert masked voxels to nan\n",
    "ind_zero = np.where(mask.get_fdata() == 0.0)\n",
    "\n",
    "b1_data_nan = b1_data.copy()\n",
    "b1_data_nan[ind_zero] = np.nan\n",
    "\n",
    "b1_gauss_nan = b1_gauss.copy()\n",
    "b1_gauss_nan[ind_zero] = np.nan\n",
    "\n",
    "b1_median_nan = b1_median.copy()\n",
    "b1_median_nan[ind_zero] = np.nan"
   ]
  },
  {
   "cell_type": "code",
   "execution_count": null,
   "metadata": {},
   "outputs": [],
   "source": [
    "fig, axs = plt.subplots(1, 3, constrained_layout=True)\n",
    "\n",
    "ax = axs[2]\n",
    "\n",
    "imgplot = axs[0].imshow(np.rot90(np.squeeze(b1_data_nan[52, :, :])), cmap='hsv',  vmin=0, vmax=1000)\n",
    "axs[0].set_aspect(2)\n",
    "axs[0].set_axis_off()\n",
    "axs[0].title.set_text('Original')\n",
    "\n",
    "imgplot = axs[1].imshow(np.rot90(np.squeeze(b1_median_nan[52, :, :])), cmap='hsv',  vmin=0, vmax=1000)\n",
    "axs[1].set_aspect(2)\n",
    "axs[1].set_axis_off()\n",
    "axs[1].title.set_text('Median')\n",
    "\n",
    "imgplot = axs[2].imshow(np.rot90(np.squeeze(b1_gauss_nan[52, :, :])), cmap='hsv',  vmin=0, vmax=1000)\n",
    "axs[2].set_aspect(2)\n",
    "axs[2].set_axis_off()\n",
    "axs[2].title.set_text('Gaussian')\n",
    "\n",
    "fig.colorbar(imgplot, ax=axs[2], orientation='vertical', shrink=0.6)\n",
    "\n",
    "plt.savefig('sagittal.png', dpi=300)\n",
    "\n",
    "plt.show()"
   ]
  },
  {
   "cell_type": "code",
   "execution_count": null,
   "metadata": {},
   "outputs": [],
   "source": [
    "fig, axs = plt.subplots(1, 3, constrained_layout=True)\n",
    "\n",
    "ax = axs[2]\n",
    "\n",
    "imgplot = axs[0].imshow(np.rot90(np.squeeze(b1_data_nan[:, 34, :])), cmap='hsv',  vmin=0, vmax=1000)\n",
    "axs[0].set_aspect(2)\n",
    "axs[0].set_axis_off()\n",
    "axs[0].title.set_text('Original')\n",
    "\n",
    "imgplot = axs[1].imshow(np.rot90(np.squeeze(b1_median_nan[:, 34, :])), cmap='hsv',  vmin=0, vmax=1000)\n",
    "axs[1].set_aspect(2)\n",
    "axs[1].set_axis_off()\n",
    "axs[1].title.set_text('Median')\n",
    "\n",
    "imgplot = axs[2].imshow(np.rot90(np.squeeze(b1_gauss_nan[:, 34, :])), cmap='hsv',  vmin=0, vmax=1000)\n",
    "axs[2].set_aspect(2)\n",
    "axs[2].set_axis_off()\n",
    "axs[2].title.set_text('Gaussian')\n",
    "\n",
    "fig.colorbar(imgplot, ax=axs[2], orientation='vertical', shrink=0.6)\n",
    "\n",
    "plt.savefig('coronal.png', dpi=300)\n",
    "\n",
    "plt.show()"
   ]
  },
  {
   "cell_type": "code",
   "execution_count": null,
   "metadata": {},
   "outputs": [],
   "source": [
    "fig, axs = plt.subplots(1, 3, constrained_layout=True)\n",
    "\n",
    "ax = axs[2]\n",
    "\n",
    "imgplot = axs[0].imshow(np.rot90(np.squeeze(b1_data_nan[:, :, 37])), cmap='hsv',  vmin=0, vmax=1000)\n",
    "axs[0].set_aspect(1)\n",
    "axs[0].set_axis_off()\n",
    "axs[0].title.set_text('Original')\n",
    "\n",
    "imgplot = axs[1].imshow(np.rot90(np.squeeze(b1_median_nan[:, :, 37])), cmap='hsv',  vmin=0, vmax=1000)\n",
    "axs[1].set_aspect(1)\n",
    "axs[1].set_axis_off()\n",
    "axs[1].title.set_text('Median')\n",
    "\n",
    "imgplot = axs[2].imshow(np.rot90(np.squeeze(b1_gauss_nan[:, :, 37])), cmap='hsv',  vmin=0, vmax=1000)\n",
    "axs[2].set_aspect(1)\n",
    "axs[2].set_axis_off()\n",
    "axs[2].title.set_text('Gaussian')\n",
    "\n",
    "fig.colorbar(imgplot, ax=axs[2], orientation='vertical', shrink=0.6)\n",
    "\n",
    "plt.savefig('axial.png', dpi=300)\n",
    "\n",
    "plt.show()"
   ]
  },
  {
   "cell_type": "code",
   "execution_count": null,
   "metadata": {},
   "outputs": [],
   "source": [
    "fig, axs = plt.subplots(1, 3, constrained_layout=True)\n",
    "\n",
    "ax = axs[2]\n",
    "\n",
    "imgplot = axs[0].imshow(np.rot90(np.squeeze(b1_data_nan[:, :, 37])), cmap='hsv',  vmin=0, vmax=1000)\n",
    "axs[0].set_aspect(1)\n",
    "axs[0].set_axis_off()\n",
    "axs[0].title.set_text('Original')\n",
    "\n",
    "imgplot = axs[1].imshow(np.rot90(np.squeeze((b1_median_nan[:, :, 37]-b1_data_nan[:, :, 37])/b1_data_nan[:, :, 37]*100)), cmap='seismic',  vmin=-10, vmax=10)\n",
    "axs[1].set_aspect(1)\n",
    "axs[1].set_axis_off()\n",
    "axs[1].title.set_text('Median % diff')\n",
    "\n",
    "imgplot = axs[2].imshow(np.rot90(np.squeeze((b1_gauss_nan[:, :, 37]-b1_data_nan[:, :, 37])/b1_data_nan[:, :, 37]*100)), cmap='seismic',  vmin=-10, vmax=10)\n",
    "axs[2].set_aspect(1)\n",
    "axs[2].set_axis_off()\n",
    "axs[2].title.set_text('Gaussian % diff')\n",
    "\n",
    "fig.colorbar(imgplot, ax=axs[2], orientation='vertical', shrink=0.6)\n",
    "\n",
    "plt.savefig('percdiff.png', dpi=300)\n",
    "\n",
    "plt.show()"
   ]
  },
  {
   "cell_type": "code",
   "execution_count": null,
   "metadata": {},
   "outputs": [],
   "source": [
    "fig, axs = plt.subplots(1, 3, constrained_layout=True)\n",
    "\n",
    "ax = axs[2]\n",
    "\n",
    "imgplot = axs[0].imshow(np.rot90(np.squeeze(b1_median_nan[:, :, 37])), cmap='hsv',  vmin=0, vmax=1000)\n",
    "axs[0].set_aspect(1)\n",
    "axs[0].set_axis_off()\n",
    "axs[0].title.set_text('Median')\n",
    "\n",
    "imgplot = axs[1].imshow(np.rot90(np.squeeze(b1_gauss_nan[:, :, 37])), cmap='hsv', vmin=0, vmax=1000)\n",
    "axs[1].set_aspect(1)\n",
    "axs[1].set_axis_off()\n",
    "axs[1].title.set_text('Gaussian')\n",
    "\n",
    "imgplot = axs[2].imshow(np.rot90(np.squeeze((b1_gauss_nan[:, :, 37]-b1_median_nan[:, :, 37])/b1_median_nan[:, :, 37]*100)), cmap='seismic',  vmin=-10, vmax=10)\n",
    "axs[2].set_aspect(1)\n",
    "axs[2].set_axis_off()\n",
    "axs[2].title.set_text('Gauss - Med % diff')\n",
    "\n",
    "fig.colorbar(imgplot, ax=axs[2], orientation='vertical', shrink=0.6)\n",
    "\n",
    "plt.savefig('gauss-med.png', dpi=300)\n",
    "\n",
    "plt.show()"
   ]
  }
 ],
 "metadata": {
  "kernelspec": {
   "display_name": "Python 3.8.8 ('base')",
   "language": "python",
   "name": "python3"
  },
  "language_info": {
   "codemirror_mode": {
    "name": "ipython",
    "version": 3
   },
   "file_extension": ".py",
   "mimetype": "text/x-python",
   "name": "python",
   "nbconvert_exporter": "python",
   "pygments_lexer": "ipython3",
   "version": "3.8.8"
  },
  "orig_nbformat": 4,
  "vscode": {
   "interpreter": {
    "hash": "7b6a1e6c18d33edc8789944742c8a86446c3dbacb192990ec4f19dd1ca3f62b7"
   }
  }
 },
 "nbformat": 4,
 "nbformat_minor": 2
}
